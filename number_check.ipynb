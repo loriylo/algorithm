{
 "cells": [
  {
   "cell_type": "code",
   "execution_count": 3,
   "id": "lyric-converter",
   "metadata": {},
   "outputs": [
    {
     "data": {
      "text/plain": [
       "True"
      ]
     },
     "execution_count": 3,
     "metadata": {},
     "output_type": "execute_result"
    }
   ],
   "source": [
    "\"\"\"armstrong number\n",
    "definition: For 153, the operation is 1^3 5^3 3^3=153\n",
    "\"\"\" \n",
    "def check_armstrong(number, total = 0):\n",
    "    num = str(number)\n",
    "    expo = len(num)\n",
    "    for n in num:\n",
    "        total += int(n)**expo\n",
    "    return number == total\n",
    "\n",
    "check_armstrong(153)\n"
   ]
  },
  {
   "cell_type": "code",
   "execution_count": 24,
   "id": "boolean-supply",
   "metadata": {},
   "outputs": [
    {
     "name": "stdout",
     "output_type": "stream",
     "text": [
      "Execution time: 0.5817413330078125 milliseconds\n"
     ]
    }
   ],
   "source": [
    "\"\"\" all the factor of a number\n",
    "\"\"\"\n",
    "import time\n",
    "\n",
    "def list_factors(number, result =[]):\n",
    "    for i in range(1,number+1):\n",
    "        if number%i == 0 and number not in result:\n",
    "            result.append(i)\n",
    "            \n",
    "            \n",
    "    return result\n",
    "st = time.time()\n",
    "list_factors(7888)\n",
    "end = time.time()\n",
    "result = (end-st)*1000\n",
    "print('Execution time:', result,'milliseconds')"
   ]
  },
  {
   "cell_type": "code",
   "execution_count": 25,
   "id": "handed-cable",
   "metadata": {},
   "outputs": [
    {
     "name": "stdout",
     "output_type": "stream",
     "text": [
      "Execution time: 0.9789466857910156 milliseconds\n"
     ]
    }
   ],
   "source": [
    "def list_factors1(number, result =[]):\n",
    "    for i in range(1,number+1):\n",
    "        if number%i == 0:\n",
    "            result.append(i)\n",
    "    return result\n",
    "\n",
    "st1 = time.time()\n",
    "list_factors1(7888)\n",
    "end1 = time.time()\n",
    "result1 = (end1-st1)*1000\n",
    "print('Execution time:', result1,'milliseconds')"
   ]
  },
  {
   "cell_type": "code",
   "execution_count": null,
   "id": "renewable-overview",
   "metadata": {},
   "outputs": [],
   "source": [
    "\"\"\" perfect number\n",
    "\n",
    "\"\"\""
   ]
  },
  {
   "cell_type": "code",
   "execution_count": null,
   "id": "driven-offering",
   "metadata": {},
   "outputs": [],
   "source": [
    "# gcd"
   ]
  },
  {
   "cell_type": "code",
   "execution_count": null,
   "id": "available-greece",
   "metadata": {},
   "outputs": [],
   "source": [
    "# lcm"
   ]
  }
 ],
 "metadata": {
  "kernelspec": {
   "display_name": "Python 3",
   "language": "python",
   "name": "python3"
  },
  "language_info": {
   "codemirror_mode": {
    "name": "ipython",
    "version": 3
   },
   "file_extension": ".py",
   "mimetype": "text/x-python",
   "name": "python",
   "nbconvert_exporter": "python",
   "pygments_lexer": "ipython3",
   "version": "3.8.3"
  }
 },
 "nbformat": 4,
 "nbformat_minor": 5
}
