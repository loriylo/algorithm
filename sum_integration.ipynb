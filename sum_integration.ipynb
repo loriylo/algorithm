{
 "cells": [
  {
   "cell_type": "markdown",
   "id": "actual-beverage",
   "metadata": {},
   "source": [
    "## 2sum\n",
    "leetcode 1:Given an array of integers nums and an integer target, return indices of the two numbers such that they add up to target.\n",
    "You may assume that each input would have exactly one solution, and you may not use the same element twice.\n",
    "You can return the answer in any order.\n",
    "\n"
   ]
  },
  {
   "cell_type": "code",
   "execution_count": 60,
   "id": "mexican-accommodation",
   "metadata": {},
   "outputs": [],
   "source": [
    "def twoSum(nums, target):\n",
    "    for i in range(len(nums)):\n",
    "        if (target - nums[i]) in nums and nums.index(target-nums[i])!=i:\n",
    "            return [i,nums.index(target-nums[i])]"
   ]
  },
  {
   "cell_type": "code",
   "execution_count": 61,
   "id": "finished-matrix",
   "metadata": {},
   "outputs": [
    {
     "data": {
      "text/plain": [
       "[0, 1]"
      ]
     },
     "execution_count": 61,
     "metadata": {},
     "output_type": "execute_result"
    }
   ],
   "source": [
    "# test case\n",
    "nums = [2,7,11,15]\n",
    "target = 9\n",
    "twoSum(nums,target)"
   ]
  },
  {
   "cell_type": "code",
   "execution_count": 67,
   "id": "assumed-venue",
   "metadata": {},
   "outputs": [],
   "source": [
    "def twoSum2(nums,target):\n",
    "    twomap ={}\n",
    "    for i,n in enumerate(nums):\n",
    "        diff = target-n\n",
    "        if diff in twomap:\n",
    "            return [twomap[diff],i]\n",
    "        twomap[n] = i\n",
    "        "
   ]
  },
  {
   "cell_type": "code",
   "execution_count": 68,
   "id": "seven-interstate",
   "metadata": {},
   "outputs": [
    {
     "data": {
      "text/plain": [
       "[0, 1]"
      ]
     },
     "execution_count": 68,
     "metadata": {},
     "output_type": "execute_result"
    }
   ],
   "source": [
    "twoSum2(nums,target)"
   ]
  },
  {
   "cell_type": "markdown",
   "id": "entitled-senegal",
   "metadata": {},
   "source": [
    "## 3sum\n",
    "Leetcode 15: Given an integer array nums, return all the triplets [nums[i], nums[j], nums[k]] such that i != j, i != k, and j != k, and nums[i] + nums[j] + nums[k] == 0."
   ]
  },
  {
   "cell_type": "code",
   "execution_count": 40,
   "id": "relative-given",
   "metadata": {},
   "outputs": [],
   "source": [
    "def threeSum(nums):\n",
    "    result=[]\n",
    "    nums.sort()\n",
    "    for i in range(len(nums)):    \n",
    "        if i>0 and nums[i]==nums[i-1]:\n",
    "            continue\n",
    "        l=i+1\n",
    "        r=len(nums)-1\n",
    "        while(l<r):\n",
    "            if nums[i]+nums[l]+nums[r]==0:\n",
    "                result.append([nums[i],nums[l],nums[r]])\n",
    "                while l<r and nums[l]==nums[l+1]:\n",
    "                    l+=1\n",
    "                while r>l and nums[r-1] ==nums[r]:\n",
    "                    r-=1\n",
    "                l+=1\n",
    "                r-=1\n",
    "            elif nums[i]+nums[l]+nums[r]>0:\n",
    "                r-=1\n",
    "            else:\n",
    "                l+=1\n",
    "    return result"
   ]
  },
  {
   "cell_type": "code",
   "execution_count": 41,
   "id": "antique-footage",
   "metadata": {},
   "outputs": [
    {
     "data": {
      "text/plain": [
       "[[-1, 0, 1]]"
      ]
     },
     "execution_count": 41,
     "metadata": {},
     "output_type": "execute_result"
    }
   ],
   "source": [
    "# Test case\n",
    "\n",
    "nums = [1,-1,-1,0]\n",
    "threeSum(nums)"
   ]
  },
  {
   "cell_type": "markdown",
   "id": "stainless-colors",
   "metadata": {},
   "source": [
    " ## 4sum\n",
    "Given an array nums of n integers, return an array of all the unique quadruplets [nums[a], nums[b], nums[c], nums[d]] such that:\n",
    "\n",
    "0 <= a, b, c, d < n\n",
    "a, b, c, and d are distinct.\n",
    "nums[a] + nums[b] + nums[c] + nums[d] == target\n",
    "You may return the answer in any order."
   ]
  },
  {
   "cell_type": "code",
   "execution_count": 86,
   "id": "provincial-version",
   "metadata": {},
   "outputs": [],
   "source": [
    "def fourSum(nums,target):\n",
    "    nums.sort()\n",
    "    res, quad =[],[]\n",
    "    def kSum(k, start, target):\n",
    "            if k!=2:\n",
    "                for i in range(start, len(nums)-k+1):\n",
    "                    if i> start and nums[i] ==nums[i-1]:\n",
    "                        continue\n",
    "                    quad.append(nums[i])\n",
    "                    print('quad append element',quad)\n",
    "                    kSum(k-1, i+1, target-nums[i])\n",
    "                    quad.pop()\n",
    "                    print('after quad delete the last element',quad)\n",
    "                return\n",
    "            \n",
    "            # base case\n",
    "            l, r = start, len(nums)-1\n",
    "            print('left value and right value',nums[l],nums[r])\n",
    "            while(l<r):\n",
    "                if nums[l]+nums[r]< target:\n",
    "                    l+=1\n",
    "                elif nums[l]+nums[r]>target:\n",
    "                    r-=1\n",
    "                else:\n",
    "                    res.append(quad + [nums[l],nums[r]])\n",
    "                    print('result',res)\n",
    "                    l +=1\n",
    "                    while l<r and nums[l] ==nums[l-1]:\n",
    "                        l+=1\n",
    "     \n",
    "    kSum(4,0,target)\n",
    "    return res\n",
    "    "
   ]
  },
  {
   "cell_type": "code",
   "execution_count": 87,
   "id": "faced-logan",
   "metadata": {},
   "outputs": [
    {
     "name": "stdout",
     "output_type": "stream",
     "text": [
      "quad append element [-2]\n",
      "quad append element [-2, -1]\n",
      "left value and right value 0 2\n",
      "result [[-2, -1, 1, 2]]\n",
      "after quad delete the last element [-2]\n",
      "quad append element [-2, 0]\n",
      "left value and right value 0 2\n",
      "result [[-2, -1, 1, 2], [-2, 0, 0, 2]]\n",
      "after quad delete the last element [-2]\n",
      "after quad delete the last element []\n",
      "quad append element [-1]\n",
      "quad append element [-1, 0]\n",
      "left value and right value 0 2\n",
      "result [[-2, -1, 1, 2], [-2, 0, 0, 2], [-1, 0, 0, 1]]\n",
      "after quad delete the last element [-1]\n",
      "after quad delete the last element []\n",
      "quad append element [0]\n",
      "quad append element [0, 0]\n",
      "left value and right value 1 2\n",
      "after quad delete the last element [0]\n",
      "after quad delete the last element []\n",
      "[-2, -1, 0, 0, 1, 2]\n"
     ]
    }
   ],
   "source": [
    "# test case\n",
    "nums = [1,0,-1,0,-2,2]\n",
    "target = 0\n",
    "\n",
    "fourSum(nums, target)\n",
    "nums.sort()\n",
    "print(nums)"
   ]
  }
 ],
 "metadata": {
  "kernelspec": {
   "display_name": "Python 3",
   "language": "python",
   "name": "python3"
  },
  "language_info": {
   "codemirror_mode": {
    "name": "ipython",
    "version": 3
   },
   "file_extension": ".py",
   "mimetype": "text/x-python",
   "name": "python",
   "nbconvert_exporter": "python",
   "pygments_lexer": "ipython3",
   "version": "3.8.3"
  }
 },
 "nbformat": 4,
 "nbformat_minor": 5
}
