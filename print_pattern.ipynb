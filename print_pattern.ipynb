{
 "cells": [
  {
   "cell_type": "code",
   "execution_count": 6,
   "id": "quiet-width",
   "metadata": {},
   "outputs": [
    {
     "name": "stdout",
     "output_type": "stream",
     "text": [
      "1 \n",
      "2 2 \n",
      "3 3 3 \n",
      "4 4 4 4 \n"
     ]
    }
   ],
   "source": [
    "\"\"\"print patern\n",
    "1\n",
    "22\n",
    "333\n",
    "4444\n",
    "\"\"\"\n",
    "\n",
    "for i in range(1,5):\n",
    "    for j in range(0,i):\n",
    "        print(i, end=\" \")\n",
    "    print()"
   ]
  },
  {
   "cell_type": "code",
   "execution_count": 7,
   "id": "known-boutique",
   "metadata": {},
   "outputs": [
    {
     "name": "stdout",
     "output_type": "stream",
     "text": [
      "# \n",
      "# # \n",
      "# # # \n",
      "# # # # \n"
     ]
    }
   ],
   "source": [
    "\"\"\"print patern\n",
    "#\n",
    "##\n",
    "###\n",
    "####\n",
    "\"\"\"\n",
    "\n",
    "for i in range(1,5):\n",
    "    for j in range(0,i):\n",
    "        print(\"#\", end=\" \")\n",
    "    print()"
   ]
  },
  {
   "cell_type": "code",
   "execution_count": 11,
   "id": "outstanding-stand",
   "metadata": {},
   "outputs": [
    {
     "name": "stdout",
     "output_type": "stream",
     "text": [
      "0 \n",
      "1 1 \n",
      "2 2 2 \n",
      "3 3 3 3 \n",
      "4 4 4 4 4 \n"
     ]
    }
   ],
   "source": [
    "\"\"\"print patern\n",
    "0\n",
    "0 1\n",
    "0 1 2\n",
    "0 1 2 3\n",
    "0 1 2 3 4\n",
    "\"\"\"\n",
    "\n",
    "for i in range(5):\n",
    "    for j in range(i+1):\n",
    "        print(i, end =\" \")\n",
    "    print()\n",
    "\n"
   ]
  }
 ],
 "metadata": {
  "kernelspec": {
   "display_name": "Python 3",
   "language": "python",
   "name": "python3"
  },
  "language_info": {
   "codemirror_mode": {
    "name": "ipython",
    "version": 3
   },
   "file_extension": ".py",
   "mimetype": "text/x-python",
   "name": "python",
   "nbconvert_exporter": "python",
   "pygments_lexer": "ipython3",
   "version": "3.8.3"
  }
 },
 "nbformat": 4,
 "nbformat_minor": 5
}
