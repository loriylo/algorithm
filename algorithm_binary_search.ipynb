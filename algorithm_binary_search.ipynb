{
 "cells": [
  {
   "cell_type": "markdown",
   "id": "suited-subscription",
   "metadata": {},
   "source": [
    "## Find target\n"
   ]
  },
  {
   "cell_type": "code",
   "execution_count": 6,
   "id": "banned-jones",
   "metadata": {},
   "outputs": [
    {
     "data": {
      "text/plain": [
       "12"
      ]
     },
     "execution_count": 6,
     "metadata": {},
     "output_type": "execute_result"
    }
   ],
   "source": [
    "lista = [2,4,5,7,8,9,12,14,17,19,22,25,28,33,37]\n",
    "target = 28\n",
    "\n",
    "sorted(lista)\n",
    "def binary(nums, target):\n",
    "    left, right = 0, len(nums)\n",
    "\n",
    "    while left <= right:\n",
    "        mid = left+(right-left)//2 # this line should be set here\n",
    "        if target == nums[mid]:\n",
    "            return mid\n",
    "        elif target > nums[mid]:\n",
    "            left = mid+1\n",
    "        elif target < nums[mid]:\n",
    "            right = mid-1\n",
    "    return -1\n",
    "\n",
    "binary(lista,target)"
   ]
  }
 ],
 "metadata": {
  "kernelspec": {
   "display_name": "Python 3",
   "language": "python",
   "name": "python3"
  },
  "language_info": {
   "codemirror_mode": {
    "name": "ipython",
    "version": 3
   },
   "file_extension": ".py",
   "mimetype": "text/x-python",
   "name": "python",
   "nbconvert_exporter": "python",
   "pygments_lexer": "ipython3",
   "version": "3.8.3"
  }
 },
 "nbformat": 4,
 "nbformat_minor": 5
}
