{
 "cells": [
  {
   "cell_type": "markdown",
   "id": "heated-museum",
   "metadata": {},
   "source": [
    "## Find target\n"
   ]
  },
  {
   "cell_type": "code",
   "execution_count": 5,
   "id": "positive-attention",
   "metadata": {},
   "outputs": [
    {
     "data": {
      "text/plain": [
       "15"
      ]
     },
     "execution_count": 5,
     "metadata": {},
     "output_type": "execute_result"
    }
   ],
   "source": [
    "lista = [2,4,5,7,8,9,12,14,17,19,22,25,28,33,37]\n",
    "target = 28\n",
    "\n",
    "sorted(lista)\n",
    "def binary(nums, target):\n",
    "    left, right = 0, len(nums)\n",
    "\n",
    "    while left <= right:\n",
    "        mid = left+(right-left)//2 # this line should be set here\n",
    "        if target == nums[mid]:\n",
    "            return mid\n",
    "        elif target > nums[mid]:\n",
    "            left = mid+1\n",
    "        elif target < nums[mid]:\n",
    "            right = mid-1\n",
    "    return -1\n",
    "\n",
    "binary(lista,target)\n",
    "len(lista)"
   ]
  },
  {
   "cell_type": "markdown",
   "id": "gorgeous-advice",
   "metadata": {},
   "source": [
    "## Recursion version of Binary search"
   ]
  },
  {
   "cell_type": "code",
   "execution_count": 6,
   "id": "opening-corruption",
   "metadata": {},
   "outputs": [
    {
     "data": {
      "text/plain": [
       "12"
      ]
     },
     "execution_count": 6,
     "metadata": {},
     "output_type": "execute_result"
    }
   ],
   "source": [
    "def recur_binary(nums, target,left, right):\n",
    "    if left > right:\n",
    "        return False\n",
    "    else:\n",
    "        mid = left + (right-left)//2\n",
    "        if target == nums[mid]: \n",
    "            return mid\n",
    "        elif target > nums[mid]:\n",
    "            return recur_binary(nums,target,mid+1, right)\n",
    "        else:\n",
    "            return recur_binary(nums, target,left, mid-1)\n",
    "recur_binary(lista,target,0,15)\n",
    "    "
   ]
  }
 ],
 "metadata": {
  "kernelspec": {
   "display_name": "Python 3",
   "language": "python",
   "name": "python3"
  },
  "language_info": {
   "codemirror_mode": {
    "name": "ipython",
    "version": 3
   },
   "file_extension": ".py",
   "mimetype": "text/x-python",
   "name": "python",
   "nbconvert_exporter": "python",
   "pygments_lexer": "ipython3",
   "version": "3.8.3"
  }
 },
 "nbformat": 4,
 "nbformat_minor": 5
}
