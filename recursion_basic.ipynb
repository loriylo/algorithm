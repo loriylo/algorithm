{
 "cells": [
  {
   "cell_type": "code",
   "execution_count": 8,
   "id": "velvet-demand",
   "metadata": {},
   "outputs": [
    {
     "data": {
      "text/plain": [
       "[1, 4, 6, 4, 1]"
      ]
     },
     "execution_count": 8,
     "metadata": {},
     "output_type": "execute_result"
    }
   ],
   "source": [
    "# index n (start from 0)\n",
    "def pascal_triangle(n):\n",
    "    if n == 0:\n",
    "        return [1]\n",
    "    else:\n",
    "        prev = pascal_triangle(n-1)\n",
    "        return [1]+[prev[i]+prev[i+1] for i in range(len(prev)-1)]+[1]\n",
    "pascal_triangle(4)\n",
    "       \n",
    "    \n"
   ]
  },
  {
   "cell_type": "code",
   "execution_count": 9,
   "id": "muslim-combat",
   "metadata": {},
   "outputs": [
    {
     "name": "stdout",
     "output_type": "stream",
     "text": [
      "102334155\n",
      "Execution time: 58036.22364997864 milliseconds\n"
     ]
    }
   ],
   "source": [
    "import time\n",
    "\n",
    "# get execution time in milliseconds\n",
    "\n",
    "\n",
    "def fib(n):\n",
    "    if n == 0:\n",
    "        return 0\n",
    "    elif n == 1:\n",
    "        return 1\n",
    "    else:\n",
    "        return fib(n-1) + fib(n-2)\n",
    "\n",
    "\n",
    "st = time.time()\n",
    "print(fib(40))\n",
    "end = time.time()\n",
    "\n",
    "res = end - st\n",
    "final_res = res * 1000\n",
    "print('Execution time:', final_res, 'milliseconds')\n"
   ]
  },
  {
   "cell_type": "code",
   "execution_count": 17,
   "id": "presidential-partnership",
   "metadata": {},
   "outputs": [
    {
     "name": "stdout",
     "output_type": "stream",
     "text": [
      "Execution time: 0.0005660057067871094 milliseconds\n"
     ]
    }
   ],
   "source": [
    "# fib memoization\n",
    "\n",
    "memo ={}\n",
    "def fib_memo(n):\n",
    "    if n==0:\n",
    "        return 0\n",
    "    if n==1:\n",
    "        return 1\n",
    "    else:\n",
    "        if n in memo:\n",
    "            return memo[n]\n",
    "        else:\n",
    "            memo[n] =fib_memo(n-1)+fib_memo(n-2)\n",
    "            return memo[n]\n",
    "\n",
    "st_memo = time.time()        \n",
    "fib_memo(40)\n",
    "end_memo = time.time()\n",
    "res_memo = end_memo-st_memo\n",
    "memo_res = res_memo * 1000\n",
    "print('Execution time:',res_memo,'milliseconds')"
   ]
  },
  {
   "cell_type": "code",
   "execution_count": 15,
   "id": "renewable-branch",
   "metadata": {},
   "outputs": [
    {
     "name": "stdout",
     "output_type": "stream",
     "text": [
      "165580141\n",
      "Execution time 0.21576881408691406 milliseconds\n"
     ]
    }
   ],
   "source": [
    "# leetcode 70 climbstairs\n",
    "\n",
    "class Solution:\n",
    "    memo ={}\n",
    "    def climbStairs(self, n: int) -> int:\n",
    "        if n == 1:\n",
    "            return 1\n",
    "        if n == 2:\n",
    "            return 2\n",
    "        else:\n",
    "            if n in self.memo:\n",
    "                return self.memo[n]\n",
    "            else:\n",
    "                self.memo[n] = self.climbStairs(n - 2) + self.climbStairs(n - 1)\n",
    "                return self.memo[n]\n",
    "            \n",
    "cl_st = time.time()\n",
    "sol = Solution()\n",
    "print(sol.climbStairs(40))\n",
    "cl_end = time.time()\n",
    "result_cl = (cl_end-cl_st)*1000\n",
    "print('Execution time',result_cl,'milliseconds')\n"
   ]
  }
 ],
 "metadata": {
  "kernelspec": {
   "display_name": "Python 3",
   "language": "python",
   "name": "python3"
  },
  "language_info": {
   "codemirror_mode": {
    "name": "ipython",
    "version": 3
   },
   "file_extension": ".py",
   "mimetype": "text/x-python",
   "name": "python",
   "nbconvert_exporter": "python",
   "pygments_lexer": "ipython3",
   "version": "3.8.3"
  }
 },
 "nbformat": 4,
 "nbformat_minor": 5
}
